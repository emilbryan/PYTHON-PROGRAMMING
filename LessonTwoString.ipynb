{
 "cells": [
  {
   "cell_type": "markdown",
   "id": "55f9e322-1130-488b-9ef3-ae3400bbbf59",
   "metadata": {},
   "source": [
    "# Review Question 2"
   ]
  },
  {
   "cell_type": "code",
   "execution_count": 2,
   "id": "fafb703f-9436-4f18-96f3-43ac6f741b7c",
   "metadata": {},
   "outputs": [
    {
     "name": "stdout",
     "output_type": "stream",
     "text": [
      "Lowercase strings:\n",
      "animals\n",
      "\n",
      "badger\n",
      "\n",
      "honey bee\n",
      "\n",
      "honeybadger\n",
      "\n"
     ]
    }
   ],
   "source": [
    "strings_to_lower = [\"Animals\", \"Badger\", \"Honey Bee\", \"Honeybadger\"]\n",
    "print(\"Lowercase strings:\")\n",
    "for s in strings_to_lower:\n",
    "    print(s.lower())\n",
    "    print()  # Print a newline for better readability"
   ]
  },
  {
   "cell_type": "code",
   "execution_count": 3,
   "id": "b31c422c-dd9b-492b-94ed-6ce36e494b02",
   "metadata": {},
   "outputs": [
    {
     "name": "stdout",
     "output_type": "stream",
     "text": [
      "Uppercase strings:\n",
      "ANIMALS\n",
      "BADGER\n",
      "HONEY BEE\n",
      "HONEYBADGER\n",
      "\n"
     ]
    }
   ],
   "source": [
    "strings_to_upper = [\"Animals\", \"Badger\", \"Honey Bee\", \"Honeybadger\"]\n",
    "print(\"Uppercase strings:\")\n",
    "for s in strings_to_upper:\n",
    "    print(s.upper())\n",
    "print()  # Print a newline for better readability"
   ]
  },
  {
   "cell_type": "code",
   "execution_count": 4,
   "id": "599e546e-5aa2-4afe-ae15-b3242a123fe6",
   "metadata": {},
   "outputs": [
    {
     "name": "stdout",
     "output_type": "stream",
     "text": [
      "Strings after removing whitespace:\n",
      "Filet Mignon\n",
      "Brisket\n",
      "\n"
     ]
    }
   ],
   "source": [
    "\n",
    "string1 = \" Filet Mignon\"\n",
    "string2 = \"Brisket \"\n",
    "print(\"Strings after removing whitespace:\")\n",
    "print(string1.strip())  # Removes leading and trailing whitespace\n",
    "print(string2.strip())\n",
    "print()  # Print a newline for better readability"
   ]
  },
  {
   "cell_type": "code",
   "execution_count": 6,
   "id": "77807cff-7590-4e1b-8ed9-0f8ed87ac3be",
   "metadata": {},
   "outputs": [
    {
     "name": "stdout",
     "output_type": "stream",
     "text": [
      "Checking if strings start with 'be':\n",
      "Becomes: False\n",
      "becomes: True\n",
      "\n"
     ]
    }
   ],
   "source": [
    "\n",
    "string1 = \"Becomes\"\n",
    "string2 = \"becomes\"\n",
    "print(\"Checking if strings start with 'be':\")\n",
    "print(f\"{string1}: {string1.startswith('be')}\")\n",
    "print(f\"{string2}: {string2.startswith('be')}\")\n",
    "print()  # Print a newline for better readability"
   ]
  },
  {
   "cell_type": "code",
   "execution_count": null,
   "id": "fef6190f-7b0c-4b6c-9b90-cf19cc2649b8",
   "metadata": {},
   "outputs": [],
   "source": [
    "user_string1 = input(\"Enter a string for the first input (e.g., 'Becomes'): \")\n",
    "user_string2 = input(\"Enter a string for the second input (e.g., 'becomes'): \")\n",
    "# Convert both strings to lowercase to ensure they start with \"be\"\n",
    "altered_string1 = user_string1.lower()  # Convert to lowercase\n",
    "altered_string2 = user_string2.lower()  # Convert to lowercase\n",
    "print(\"Altering strings to start with 'be':\")\n",
    "print(f\"Altered '{user_string1}': {altered_string1}\")\n",
    "print(f\"Altered '{user_string2}': {altered_string2}\")\n",
    "print(f\"Does '{altered_string1}' start with 'be'? {altered_string1.startswith('be')}\")\n",
    "print(f\"Does '{altered_string2}' start with 'be'? {altered_string2.startswith('be')}\")"
   ]
  },
  {
   "cell_type": "code",
   "execution_count": null,
   "id": "8e5533bb-507e-4adc-96b3-40b20c360d2f",
   "metadata": {},
   "outputs": [],
   "source": []
  }
 ],
 "metadata": {
  "kernelspec": {
   "display_name": "Python 3 (ipykernel)",
   "language": "python",
   "name": "python3"
  },
  "language_info": {
   "codemirror_mode": {
    "name": "ipython",
    "version": 3
   },
   "file_extension": ".py",
   "mimetype": "text/x-python",
   "name": "python",
   "nbconvert_exporter": "python",
   "pygments_lexer": "ipython3",
   "version": "3.13.5"
  }
 },
 "nbformat": 4,
 "nbformat_minor": 5
}
