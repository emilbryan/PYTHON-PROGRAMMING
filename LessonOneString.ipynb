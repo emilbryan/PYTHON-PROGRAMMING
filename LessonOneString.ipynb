{
 "cells": [
  {
   "cell_type": "markdown",
   "id": "4befed90-7e8a-40bc-98b6-01c31a97f90c",
   "metadata": {},
   "source": [
    "# Review Question 1"
   ]
  },
  {
   "cell_type": "code",
   "execution_count": 11,
   "id": "3a8a92fa-dd9f-45dd-9bed-1e0a93ebec9c",
   "metadata": {},
   "outputs": [
    {
     "name": "stdout",
     "output_type": "stream",
     "text": [
      "Length of the string: 14\n"
     ]
    }
   ],
   "source": [
    "\n",
    "my_string = \"Hello, People!\"\n",
    "print(\"Length of the string:\", len(my_string))\n",
    "\n"
   ]
  },
  {
   "cell_type": "code",
   "execution_count": 14,
   "id": "ad0dd8d1-fef0-4e46-becc-1e6e94a15e1e",
   "metadata": {},
   "outputs": [
    {
     "name": "stdout",
     "output_type": "stream",
     "text": [
      "String with space: Hello People\n"
     ]
    }
   ],
   "source": [
    "string3 = \"Hello\"\n",
    "string4 = \"People\"\n",
    "spaced_string = string3 + \" \" + string4\n",
    "print(\"String with space:\", spaced_string)\n",
    "\n",
    "\n"
   ]
  },
  {
   "cell_type": "code",
   "execution_count": 16,
   "id": "51119c56-fb8a-4ffe-9f47-90a88569a1cd",
   "metadata": {},
   "outputs": [
    {
     "name": "stdout",
     "output_type": "stream",
     "text": [
      "Sliced string: fox\n"
     ]
    }
   ],
   "source": [
    "original_string = \"The quick brown fox jumped over the lazy dog. #1234567890!\"\n",
    "sliced_string = original_string[16:19]  \n",
    "print(\"Sliced string:\", sliced_string)"
   ]
  },
  {
   "cell_type": "markdown",
   "id": "c7fa2979-9381-487c-b800-d47978954b10",
   "metadata": {},
   "source": [
    "# Review Question 2"
   ]
  },
  {
   "cell_type": "code",
   "execution_count": null,
   "id": "3be735dc-273c-4d32-b745-6ca71f7e7d8d",
   "metadata": {},
   "outputs": [],
   "source": [
    "strings_to_lower = [\"Animals\", \"Badger\", \"Honey Bee\", \"Honeybadger\"]\n",
    "print(\"Lowercase strings:\")\n",
    "\n",
    "for s in strings_to_lower:\n",
    "    print(s.lower())\n",
    "    print()  # Print a newline for better readability"
   ]
  },
  {
   "cell_type": "code",
   "execution_count": null,
   "id": "ded446b8-da0c-42d9-aa9c-30c4051859ee",
   "metadata": {},
   "outputs": [],
   "source": []
  }
 ],
 "metadata": {
  "kernelspec": {
   "display_name": "Python 3 (ipykernel)",
   "language": "python",
   "name": "python3"
  },
  "language_info": {
   "codemirror_mode": {
    "name": "ipython",
    "version": 3
   },
   "file_extension": ".py",
   "mimetype": "text/x-python",
   "name": "python",
   "nbconvert_exporter": "python",
   "pygments_lexer": "ipython3",
   "version": "3.13.5"
  }
 },
 "nbformat": 4,
 "nbformat_minor": 5
}
