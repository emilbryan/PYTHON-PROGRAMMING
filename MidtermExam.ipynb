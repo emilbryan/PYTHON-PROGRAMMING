{
 "cells": [
  {
   "cell_type": "markdown",
   "id": "944a6625-307b-4994-82ca-2e18d8e5c8b7",
   "metadata": {},
   "source": [
    "# QUESTION 1"
   ]
  },
  {
   "cell_type": "code",
   "execution_count": null,
   "id": "dc79ef34-b4f4-42e5-8c48-785a00596009",
   "metadata": {},
   "outputs": [],
   "source": [
    "def normalize_and_find(text: str, needle: str) -> int:\n",
    "    normalized_text = text.strip().lower()\n",
    "    needle = needle.lower()\n",
    "    return normalized_text.find(needle)\n",
    "\n",
    "\n",
    "if __name__ == \"__main__\":\n",
    "    import doctest\n",
    "    doctest.testmod()\n"
   ]
  },
  {
   "cell_type": "markdown",
   "id": "52c115c0-f951-4c04-8435-34d4f85f290a",
   "metadata": {},
   "source": [
    "# QUESTION 2"
   ]
  },
  {
   "cell_type": "code",
   "execution_count": 6,
   "id": "4790a6ec-24e9-4e5b-84b5-8f8705b6f453",
   "metadata": {},
   "outputs": [],
   "source": [
    "def translate(text: str, mapping: dict[str, str]) -> str:\n",
    "    result_chars = [\n",
    "        mapping.get(ch, ch) if 'a' <= ch <= 'z' else ch\n",
    "        for ch in text\n",
    "    ]\n",
    "    return ''.join(result_chars)\n",
    "\n",
    "\n",
    "if __name__ == \"__main__\":\n",
    "    import doctest\n",
    "\n",
    "    def _test():\n",
    "        \"\"\"\n",
    "        >>> translate(\"hello world!\", {'a': '4', 'e': '3', 'l': '1', 'o': '0'})\n",
    "        'h3110 w0r1d!'\n",
    "        >>> translate(\"Leetspeak\", {'a': '4', 'e': '3', 'l': '1', 'o': '0'})\n",
    "        'L33tsp34k'\n",
    "        >>> translate(\"Python 3.9\", {'p': '9', 'y': '7', 't': '+'})\n",
    "        '9 7h+on 3.9'\n",
    "        >>> translate(\"\", {'a': '4'})\n",
    "        ''\n",
    "        >>> translate(\"No changes\", {})\n",
    "        'No changes'\n",
    "        \"\"\"\n",
    "    doctest.run_docstring_examples(_test, globals())\n",
    "\n",
    "    _test()\n"
   ]
  },
  {
   "cell_type": "markdown",
   "id": "f87380ba-eb52-472d-911c-7097d4cd6d91",
   "metadata": {},
   "source": [
    "# QUESTION 3"
   ]
  },
  {
   "cell_type": "code",
   "execution_count": 7,
   "id": "4ddedfec-efdd-469c-8229-9c85ebd46b16",
   "metadata": {},
   "outputs": [],
   "source": [
    "def fmt_money(x: float) -> str:\n",
    "    rounded = round(x, 2)\n",
    "    return f\"{rounded:,.2f}\"\n"
   ]
  },
  {
   "cell_type": "markdown",
   "id": "ce64688a-4496-438b-a373-52f6c0b62697",
   "metadata": {},
   "source": [
    "# QUESTION 4"
   ]
  },
  {
   "cell_type": "code",
   "execution_count": 8,
   "id": "70d6f26d-ce0f-4e3b-92c6-b254355e9291",
   "metadata": {},
   "outputs": [
    {
     "name": "stdin",
     "output_type": "stream",
     "text": [
      "Enter the base:  2\n",
      "Enter the exponent:  3\n"
     ]
    },
    {
     "name": "stdout",
     "output_type": "stream",
     "text": [
      "\n",
      "Result: 2.0 ** 3.0 = 8.0\n"
     ]
    }
   ],
   "source": [
    "def read_number(prompt: str) -> float:\n",
    "    \"\"\"\n",
    "    Prompt the user for a number and validate using try/except.\n",
    "    Keeps asking until a valid float is entered.\n",
    "    \"\"\"\n",
    "    while True:\n",
    "        try:\n",
    "            return float(input(prompt))\n",
    "        except ValueError:\n",
    "            print(\"Invalid input. Please enter a numeric value.\")\n",
    "\n",
    "def main():\n",
    "    base = read_number(\"Enter the base: \")\n",
    "    exponent = read_number(\"Enter the exponent: \")\n",
    "    result = base ** exponent\n",
    "    print(f\"\\nResult: {base} ** {exponent} = {result}\")\n",
    "\n",
    "if __name__ == \"__main__\":\n",
    "    main()\n"
   ]
  },
  {
   "cell_type": "markdown",
   "id": "a5b5d25b-f61c-494b-8dbe-40b8de76164a",
   "metadata": {},
   "source": [
    "# QUESTION 5"
   ]
  },
  {
   "cell_type": "code",
   "execution_count": 9,
   "id": "deba8ef3-145c-4649-8dfa-63d409636ad1",
   "metadata": {},
   "outputs": [
    {
     "name": "stdin",
     "output_type": "stream",
     "text": [
      "Enter a password (Q to quit):  hello\n"
     ]
    },
    {
     "name": "stdout",
     "output_type": "stream",
     "text": [
      "\n",
      "❌ Password invalid. See details below:\n",
      "  length    : ❌\n",
      "  uppercase : ❌\n",
      "  lowercase : ✅\n",
      "  digit     : ❌\n",
      "  symbol    : ❌\n",
      "  no_space  : ✅\n",
      "\n"
     ]
    },
    {
     "name": "stdin",
     "output_type": "stream",
     "text": [
      "Enter a password (Q to quit):  Hello123\n"
     ]
    },
    {
     "name": "stdout",
     "output_type": "stream",
     "text": [
      "\n",
      "❌ Password invalid. See details below:\n",
      "  length    : ❌\n",
      "  uppercase : ✅\n",
      "  lowercase : ✅\n",
      "  digit     : ✅\n",
      "  symbol    : ❌\n",
      "  no_space  : ✅\n",
      "\n"
     ]
    },
    {
     "name": "stdin",
     "output_type": "stream",
     "text": [
      "Enter a password (Q to quit):  MyStrongP@ss1\n"
     ]
    },
    {
     "name": "stdout",
     "output_type": "stream",
     "text": [
      "✅ Password accepted!\n"
     ]
    }
   ],
   "source": [
    "def check_password(pw: str) -> dict:\n",
    "    \"\"\"\n",
    "    Validate password based on policy:\n",
    "    - Length ≥ 10\n",
    "    - At least one uppercase, one lowercase, one digit, one symbol (!@#$%^&*)\n",
    "    - No spaces\n",
    "    Returns a dictionary of rule results and overall validity.\n",
    "    \"\"\"\n",
    "    results = {\n",
    "        \"length\": len(pw) >= 10,\n",
    "        \"uppercase\": any(ch.isupper() for ch in pw),\n",
    "        \"lowercase\": any(ch.islower() for ch in pw),\n",
    "        \"digit\": any(ch.isdigit() for ch in pw),\n",
    "        \"symbol\": any(ch in \"!@#$%^&*\" for ch in pw),\n",
    "        \"no_space\": \" \" not in pw\n",
    "    }\n",
    "    results[\"valid\"] = all(results.values())\n",
    "    return results\n",
    "\n",
    "\n",
    "def main():\n",
    "    while True:\n",
    "        pw = input(\"Enter a password (Q to quit): \").strip()\n",
    "        if pw.lower() == \"q\":\n",
    "            print(\"Goodbye!\")\n",
    "            break\n",
    "\n",
    "        check = check_password(pw)\n",
    "        if check[\"valid\"]:\n",
    "            print(\"✅ Password accepted!\")\n",
    "            break\n",
    "        else:\n",
    "            print(\"\\n❌ Password invalid. See details below:\")\n",
    "            for rule, passed in check.items():\n",
    "                if rule != \"valid\":\n",
    "                    print(f\"  {rule:<10}: {'✅' if passed else '❌'}\")\n",
    "            print()\n",
    "\n",
    "\n",
    "if __name__ == \"__main__\":\n",
    "    main()\n"
   ]
  },
  {
   "cell_type": "markdown",
   "id": "5314b8c4-3786-4bd4-acd5-dc7516f59575",
   "metadata": {},
   "source": [
    "# QUESTION 6"
   ]
  },
  {
   "cell_type": "code",
   "execution_count": 10,
   "id": "a11440b3-d1ce-4a77-8eb2-154e14e3da93",
   "metadata": {},
   "outputs": [
    {
     "name": "stdout",
     "output_type": "stream",
     "text": [
      "Estimated probability of sum=7 (n=100000): 0.1646\n",
      "Exact probability of sum=7: 6/36 = 0.1667\n"
     ]
    }
   ],
   "source": [
    "import random\n",
    "\n",
    "def roll() -> int:\n",
    "    return random.randint(1, 6)\n",
    "\n",
    "def monte_carlo_simulation(trials: int = 100_000, seed: int | None = None) -> float:\n",
    "    if seed is not None:\n",
    "        random.seed(seed)\n",
    "    \n",
    "    count_sum_7 = sum(1 for _ in range(trials) if roll() + roll() == 7)\n",
    "    return count_sum_7 / trials\n",
    "\n",
    "if __name__ == \"__main__\":\n",
    "    trials = 100_000\n",
    "    probability = monte_carlo_simulation(trials=trials, seed=42)\n",
    "    print(f\"Estimated probability of sum=7 (n={trials}): {probability:.4f}\")\n",
    "    print(\"Exact probability of sum=7: 6/36 = 0.1667\")\n"
   ]
  },
  {
   "cell_type": "markdown",
   "id": "20895e3a-90f7-44a8-8716-91c9a6a92332",
   "metadata": {},
   "source": [
    "# QUESTION 7"
   ]
  },
  {
   "cell_type": "code",
   "execution_count": 11,
   "id": "7df78388-4fc8-4e53-85d2-2eaf4e1df24d",
   "metadata": {},
   "outputs": [
    {
     "name": "stdout",
     "output_type": "stream",
     "text": [
      "Car mileage: 100, fuel left: 40.00\n",
      "Truck mileage: 100, fuel left: 87.50\n",
      "Car fuel after refuel: 60.0\n",
      "Truck fuel after refuel: 137.5\n"
     ]
    }
   ],
   "source": [
    "class Vehicle:\n",
    "    def __init__(self, color: str, mileage: float = 0, fuel_liters: float = 0):\n",
    "        self.color = color\n",
    "        self.mileage = mileage\n",
    "        self.fuel_liters = fuel_liters\n",
    "\n",
    "    def drive(self, km: float, km_per_liter: float):\n",
    "        if km <= 0 or km_per_liter <= 0:\n",
    "            print(\"Drive distance and efficiency must be positive.\")\n",
    "            return\n",
    "        max_distance = self.fuel_liters * km_per_liter\n",
    "        distance_driven = min(km, max_distance)\n",
    "        self.mileage += distance_driven\n",
    "        self.fuel_liters -= distance_driven / km_per_liter\n",
    "        self.fuel_liters = max(self.fuel_liters, 0)\n",
    "\n",
    "    def refuel(self, liters: float):\n",
    "        if liters <= 0:\n",
    "            print(\"Refuel amount must be positive.\")\n",
    "            return\n",
    "        self.fuel_liters += liters\n",
    "\n",
    "\n",
    "class Car(Vehicle):\n",
    "    pass\n",
    "\n",
    "\n",
    "class Truck(Vehicle):\n",
    "    def drive(self, km: float, km_per_liter: float):\n",
    "        adjusted_efficiency = km_per_liter * 0.8\n",
    "        max_distance = self.fuel_liters * adjusted_efficiency\n",
    "        distance_driven = min(km, max_distance)\n",
    "        self.mileage += distance_driven\n",
    "        self.fuel_liters -= distance_driven / adjusted_efficiency\n",
    "        self.fuel_liters = max(self.fuel_liters, 0)\n",
    "\n",
    "\n",
    "if __name__ == \"__main__\":\n",
    "    car = Car(\"Red\", fuel_liters=50)\n",
    "    truck = Truck(\"Blue\", fuel_liters=100)\n",
    "\n",
    "    car.drive(100, 10)\n",
    "    truck.drive(100, 10)\n",
    "\n",
    "    print(f\"Car mileage: {car.mileage}, fuel left: {car.fuel_liters:.2f}\")\n",
    "    print(f\"Truck mileage: {truck.mileage}, fuel left: {truck.fuel_liters:.2f}\")\n",
    "\n",
    "    car.refuel(20)\n",
    "    truck.refuel(50)\n",
    "    print(f\"Car fuel after refuel: {car.fuel_liters}\")\n",
    "    print(f\"Truck fuel after refuel: {truck.fuel_liters}\")\n"
   ]
  },
  {
   "cell_type": "markdown",
   "id": "33634bb6-b200-4a67-bc48-f1e9fb7904d6",
   "metadata": {},
   "source": [
    "# QUESTION 8"
   ]
  },
  {
   "cell_type": "code",
   "execution_count": 12,
   "id": "5f4fdc52-ce9b-4f52-adc5-348e69737b31",
   "metadata": {},
   "outputs": [
    {
     "name": "stdout",
     "output_type": "stream",
     "text": [
      "Oldest dog: Max, Age: 8\n",
      "Golden Retrievers: ['Buddy', 'Bella']\n",
      "Dogs after removing Max: ['Buddy', 'Bella']\n"
     ]
    }
   ],
   "source": [
    "class Dog:\n",
    "    def __init__(self, name: str, age: int, breed: str):\n",
    "        self.name = name\n",
    "        self.age = age\n",
    "        self.breed = breed\n",
    "\n",
    "    def bark(self):\n",
    "        print(f\"{self.name} says: Woof!\")\n",
    "\n",
    "\n",
    "class Kennel:\n",
    "    def __init__(self):\n",
    "        self.dogs: list[Dog] = []\n",
    "\n",
    "    def add_dog(self, dog: Dog):\n",
    "        self.dogs.append(dog)\n",
    "\n",
    "    def remove_dog(self, dog_name: str):\n",
    "        removed = False\n",
    "        for i, dog in enumerate(self.dogs):\n",
    "            if dog.name == dog_name:\n",
    "                del self.dogs[i]\n",
    "                removed = True\n",
    "                break\n",
    "        if not removed:\n",
    "            print(f\"No dog named {dog_name} found.\")\n",
    "\n",
    "    def oldest_dog(self) -> Dog | None:\n",
    "        if not self.dogs:\n",
    "            return None\n",
    "        return max(self.dogs, key=lambda dog: dog.age)\n",
    "\n",
    "    def find_by_breed(self, breed: str) -> list[Dog]:\n",
    "        return [dog for dog in self.dogs if dog.breed.lower() == breed.lower()]\n",
    "\n",
    "\n",
    "if __name__ == \"__main__\":\n",
    "    dog1 = Dog(\"Buddy\", 5, \"Golden Retriever\")\n",
    "    dog2 = Dog(\"Max\", 8, \"German Shepherd\")\n",
    "    dog3 = Dog(\"Bella\", 3, \"Golden Retriever\")\n",
    "\n",
    "    kennel = Kennel()\n",
    "    kennel.add_dog(dog1)\n",
    "    kennel.add_dog(dog2)\n",
    "    kennel.add_dog(dog3)\n",
    "\n",
    "    oldest = kennel.oldest_dog()\n",
    "    if oldest:\n",
    "        print(f\"Oldest dog: {oldest.name}, Age: {oldest.age}\")\n",
    "\n",
    "    goldens = kennel.find_by_breed(\"Golden Retriever\")\n",
    "    print(\"Golden Retrievers:\", [dog.name for dog in goldens])\n",
    "\n",
    "    kennel.remove_dog(\"Max\")\n",
    "    print(\"Dogs after removing Max:\", [dog.name for dog in kennel.dogs])\n"
   ]
  },
  {
   "cell_type": "markdown",
   "id": "057230df-0e1d-475f-a5af-6063f1ec9cb5",
   "metadata": {},
   "source": [
    "# QUESTION 9"
   ]
  },
  {
   "cell_type": "code",
   "execution_count": 18,
   "id": "cb255971-5dac-4ae4-b845-0a1965fb4b69",
   "metadata": {},
   "outputs": [
    {
     "ename": "NameError",
     "evalue": "name 'su' is not defined",
     "output_type": "error",
     "traceback": [
      "\u001b[1;31m---------------------------------------------------------------------------\u001b[0m",
      "\u001b[1;31mNameError\u001b[0m                                 Traceback (most recent call last)",
      "Cell \u001b[1;32mIn[18], line 14\u001b[0m\n\u001b[0;32m     11\u001b[0m     \u001b[38;5;28mprint\u001b[39m(\u001b[38;5;124mf\u001b[39m\u001b[38;5;124m\"\u001b[39m\u001b[38;5;124mArea: \u001b[39m\u001b[38;5;132;01m{\u001b[39;00marea(length,\u001b[38;5;250m \u001b[39mwidth)\u001b[38;5;132;01m}\u001b[39;00m\u001b[38;5;124m\"\u001b[39m)\n\u001b[0;32m     13\u001b[0m \u001b[38;5;28;01mif\u001b[39;00m \u001b[38;5;18m__name__\u001b[39m \u001b[38;5;241m==\u001b[39m \u001b[38;5;124m\"\u001b[39m\u001b[38;5;124m__main__\u001b[39m\u001b[38;5;124m\"\u001b[39m:\n\u001b[1;32m---> 14\u001b[0m     main()\n",
      "Cell \u001b[1;32mIn[18], line 8\u001b[0m, in \u001b[0;36mmain\u001b[1;34m()\u001b[0m\n\u001b[0;32m      6\u001b[0m \u001b[38;5;28;01mdef\u001b[39;00m\u001b[38;5;250m \u001b[39m\u001b[38;5;21mmain\u001b[39m():\n\u001b[0;32m      7\u001b[0m     text \u001b[38;5;241m=\u001b[39m \u001b[38;5;124m\"\u001b[39m\u001b[38;5;124mhello world\u001b[39m\u001b[38;5;124m\"\u001b[39m\n\u001b[1;32m----> 8\u001b[0m     \u001b[38;5;28mprint\u001b[39m(su\u001b[38;5;241m.\u001b[39mshout(text))\n\u001b[0;32m      9\u001b[0m     length \u001b[38;5;241m=\u001b[39m \u001b[38;5;241m7\u001b[39m\n\u001b[0;32m     10\u001b[0m     width \u001b[38;5;241m=\u001b[39m \u001b[38;5;241m4\u001b[39m\n",
      "\u001b[1;31mNameError\u001b[0m: name 'su' is not defined"
     ]
    }
   ],
   "source": [
    "def shout(s: str) -> str:\n",
    "    return s.upper()\n",
    "def area(length: float, width: float) -> float:\n",
    "    return length * width\n",
    "\n",
    "def main():\n",
    "    text = \"hello world\"\n",
    "    print(su.shout(text))\n",
    "    length = 7\n",
    "    width = 4\n",
    "    print(f\"Area: {area(length, width)}\")\n",
    "\n",
    "if __name__ == \"__main__\":\n",
    "    main()\n"
   ]
  },
  {
   "cell_type": "markdown",
   "id": "40544968-348e-4b71-8b3e-b4bf5c6f7aac",
   "metadata": {},
   "source": [
    "# QUESTION 10"
   ]
  },
  {
   "cell_type": "code",
   "execution_count": null,
   "id": "a96037fb-9290-4b08-9adf-775ab6b09878",
   "metadata": {},
   "outputs": [
    {
     "name": "stdout",
     "output_type": "stream",
     "text": [
      "Temperature Converter\n",
      "---------------------\n",
      "Choose conversion direction:\n",
      "1: Celsius to Fahrenheit\n",
      "2: Fahrenheit to Celsius\n"
     ]
    }
   ],
   "source": [
    "def cel_to_far(c: float) -> float:\n",
    "    \"\"\"\n",
    "    Convert Celsius to Fahrenheit.\n",
    "    \n",
    "    Formula: (°C * 9/5) + 32 = °F\n",
    "    \n",
    "    Args:\n",
    "        c (float): Temperature in Celsius.\n",
    "        \n",
    "    Returns:\n",
    "        float: Temperature in Fahrenheit.\n",
    "        \n",
    "    Examples:\n",
    "    >>> cel_to_far(0)\n",
    "    32.0\n",
    "    >>> cel_to_far(-40)\n",
    "    -40.0\n",
    "    >>> cel_to_far(100)\n",
    "    212.0\n",
    "    \"\"\"\n",
    "    return (c * 9 / 5) + 32\n",
    "\n",
    "\n",
    "def far_to_cel(f: float) -> float:\n",
    "    \"\"\"\n",
    "    Convert Fahrenheit to Celsius.\n",
    "    \n",
    "    Formula: (°F - 32) * 5/9 = °C\n",
    "    \n",
    "    Args:\n",
    "        f (float): Temperature in Fahrenheit.\n",
    "        \n",
    "    Returns:\n",
    "        float: Temperature in Celsius.\n",
    "        \n",
    "    Examples:\n",
    "    >>> far_to_cel(32)\n",
    "    0.0\n",
    "    >>> far_to_cel(-40)\n",
    "    -40.0\n",
    "    >>> far_to_cel(212)\n",
    "    100.0\n",
    "    \"\"\"\n",
    "    return (f - 32) * 5 / 9\n",
    "\n",
    "\n",
    "def main():\n",
    "    print(\"Temperature Converter\")\n",
    "    print(\"---------------------\")\n",
    "    print(\"Choose conversion direction:\")\n",
    "    print(\"1: Celsius to Fahrenheit\")\n",
    "    print(\"2: Fahrenheit to Celsius\")\n",
    "\n",
    "    while True:\n",
    "        choice = input(\"Enter 1 or 2: \").strip()\n",
    "        if choice not in {\"1\", \"2\"}:\n",
    "            print(\"Invalid choice. Please enter 1 or 2.\")\n",
    "            continue\n",
    "        else:\n",
    "            break\n",
    "\n",
    "    while True:\n",
    "        temp_input = input(\"Enter temperature to convert: \").strip()\n",
    "        try:\n",
    "            temp = float(temp_input)\n",
    "            break\n",
    "        except ValueError:\n",
    "            print(\"Invalid temperature. Please enter a numeric value.\")\n",
    "\n",
    "    if choice == \"1\":\n",
    "        result = cel_to_far(temp)\n",
    "        print(f\"{temp}°C is {result:.2f}°F\")\n",
    "    else:\n",
    "        result = far_to_cel(temp)\n",
    "        print(f\"{temp}°F is {result:.2f}°C\")\n",
    "\n",
    "\n",
    "if __name__ == \"__main__\":\n",
    "    import doctest\n",
    "    doctest.testmod()  \n",
    "    \n",
    "    main()\n"
   ]
  },
  {
   "cell_type": "code",
   "execution_count": null,
   "id": "d6d95afa-52d8-419c-b991-21ef3c255ecd",
   "metadata": {},
   "outputs": [],
   "source": []
  }
 ],
 "metadata": {
  "kernelspec": {
   "display_name": "Python 3 (ipykernel)",
   "language": "python",
   "name": "python3"
  },
  "language_info": {
   "codemirror_mode": {
    "name": "ipython",
    "version": 3
   },
   "file_extension": ".py",
   "mimetype": "text/x-python",
   "name": "python",
   "nbconvert_exporter": "python",
   "pygments_lexer": "ipython3",
   "version": "3.13.5"
  }
 },
 "nbformat": 4,
 "nbformat_minor": 5
}
